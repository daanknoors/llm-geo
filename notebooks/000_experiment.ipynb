{
 "cells": [
  {
   "cell_type": "markdown",
   "id": "62a4fb3c-589f-4ecf-bfce-16c168dfc9f3",
   "metadata": {},
   "source": [
    "# LLM Geo exp"
   ]
  },
  {
   "cell_type": "markdown",
   "id": "c168fbbc-8da3-4ecc-bb41-262424010f55",
   "metadata": {},
   "source": [
    "## Import libs"
   ]
  },
  {
   "cell_type": "code",
   "execution_count": 2,
   "id": "305b1707-57a6-41b6-8d6a-5ad10881125c",
   "metadata": {},
   "outputs": [],
   "source": [
    "import pandas as pd\n",
    "import sys\n",
    "import requests\n",
    "from bs4 import BeautifulSoup"
   ]
  },
  {
   "cell_type": "code",
   "execution_count": 3,
   "id": "0146b81f",
   "metadata": {},
   "outputs": [],
   "source": [
    "# autoreload changes from local files\n",
    "%load_ext autoreload\n",
    "%autoreload 2\n",
    "\n",
    "# pandas show full output\n",
    "pd.set_option('display.max_rows', 500)\n",
    "pd.set_option('display.max_columns', 200)"
   ]
  },
  {
   "cell_type": "code",
   "execution_count": 4,
   "id": "ab6e135d",
   "metadata": {},
   "outputs": [],
   "source": [
    "from llmgeo import parse"
   ]
  },
  {
   "cell_type": "markdown",
   "id": "69ff0d69-98fe-48b7-934e-12033407278b",
   "metadata": {},
   "source": [
    "## Web scraping experiment"
   ]
  },
  {
   "cell_type": "code",
   "execution_count": 31,
   "id": "66c4e846",
   "metadata": {},
   "outputs": [],
   "source": [
    "url = \"https://daanknoors.com\"\n",
    "response = parse.fetch_website(url)\n",
    "soup = parse.parse_html(response)"
   ]
  },
  {
   "cell_type": "code",
   "execution_count": 33,
   "id": "b4295bf7",
   "metadata": {},
   "outputs": [
    {
     "data": {
      "text/plain": [
       "'\\n\\n\\n\\n\\n\\n\\n\\nDaan Knoors\\n\\n\\n\\n\\n\\n\\n\\n\\n\\n\\n\\n\\n\\n\\n\\n\\n\\n\\n\\n\\n\\n\\n\\n\\n\\n\\n\\n\\n\\n\\n\\n\\n\\n\\n\\n\\n\\n\\n\\n\\n\\n\\n\\n\\n\\n\\n0\\n\\n\\n\\n\\n\\n\\n\\n\\n        Skip to Content\\n      \\n\\n\\n\\n\\n\\n\\n\\n\\n\\n\\n\\n\\n\\n\\n\\n\\nDaan Knoors\\n\\n\\n\\n\\n\\n\\n\\n\\n        About\\n      \\n\\n\\n\\n        Projects\\n      \\n\\n\\n\\n        Contact\\n      \\n\\n\\n\\n\\n\\n\\n\\n\\n\\n\\n\\n\\n\\n\\n\\n\\nOpen Menu\\nClose Menu\\n\\n\\n\\n\\n\\n\\n\\n\\n\\n\\n\\n\\n\\n\\n\\n\\n\\nDaan Knoors\\n\\n\\n\\n\\n\\n\\n\\n\\n        About\\n      \\n\\n\\n\\n        Projects\\n      \\n\\n\\n\\n        Contact\\n      \\n\\n\\n\\n\\n\\n\\n\\n\\n\\n\\n\\n\\n\\n\\n\\n\\nOpen Menu\\nClose Menu\\n\\n\\n\\n\\n\\n\\n\\n\\n\\n\\n\\n\\n\\n\\n\\n\\n\\n\\n\\n\\n\\n\\n\\n\\n                  About\\n                \\n\\n\\n\\n\\n\\n                  Projects\\n                \\n\\n\\n\\n\\n\\n                  Contact\\n                \\n\\n\\n\\n\\n\\n\\n\\n\\n\\n\\n\\n\\n\\n\\n\\n\\n\\n\\n\\n\\n\\n\\nHey there!I’m Daan. Data scientist, privacy engineer and consultant.\\n\\n\\n\\n\\n    Contact\\n  \\n\\n\\n\\n\\n\\n\\n\\n\\n\\n\\n\\n\\n\\n\\n\\n\\n\\n\\n\\n\\n\\n\\n\\n\\n\\n\\nWhat I can help you with\\n\\n\\n\\n\\nData ScienceDevelop machine learning algorithms, statistical models, and automated data processing pipelines to discover new insights and support decision-making.\\n\\n\\n\\n\\nPrivacy EngineeringAnalyse your data governance strategy and implement privacy-enhancing technologies to create new ways to access sensitive data.\\n\\n\\n\\n\\n\\n\\n\\n\\n\\n\\n\\n\\n\\n\\nProjects\\n\\n\\n\\n\\n\\n\\nProjects\\n\\n\\n\\n\\n\\n\\n\\n\\n\\n\\n\\n\\n\\n\\n\\n\\n\\n\\n\\n\\n\\nprivacy engineering\\n\\n\\n\\n\\n\\nSynthetic cancer registry\\n\\n\\n\\nprivacy engineering\\n\\n\\n\\n\\nWe generated and released one of the first high-dimensional synthetic medical datasets for public access.  This gives more people the opportunity to experiment with record-level cancer data and contribute to oncological research.\\nRead More →\\n\\n\\n\\nprivacy engineering\\n\\n\\n\\n\\n\\n\\n\\n\\n\\n\\n\\n\\n\\n\\n\\n\\n\\n\\n\\n\\ndata science\\n\\n\\n\\n\\n\\nMetastatic breast cancer detection\\n\\n\\n\\ndata science\\n\\n\\n\\n\\nTraining a machine learning model to signal patients who develop metachronous metastases after primary breast cancer, resulting in a more complete cancer registry.\\nRead More →\\n\\n\\n\\ndata science\\n\\n\\n\\n\\n\\n\\n\\n\\n\\n\\n\\n\\n\\n\\n\\n\\n\\n\\n\\n\\nprivacy engineering\\n\\n\\n\\n\\n\\nFederated learning in healthcare\\n\\n\\n\\nprivacy engineering\\n\\n\\n\\n\\nBy using the latest advancements in federated learning and secure computation, we can combine insights from data sources that are maintained by multiple organisations without the need to share record-level data.\\nRead More →\\n\\n\\n\\nprivacy engineering\\n\\n\\n\\n\\n\\n\\n\\n\\n\\n\\n\\n\\n\\n\\n\\n\\n\\n\\n\\n\\ndata science\\n\\n\\n\\n\\n\\nCervical cancer risk prediction\\n\\n\\n\\ndata science\\n\\n\\n\\n\\nPredicting the development of cervical cancer based on individual screening histories. This allows for faster intervention for individuals with higher risk, while reducing the number of examinations for individuals with lower risk.\\nRead More →\\n\\n\\n\\ndata science\\n\\n\\n\\n\\n\\n\\n\\n\\n\\n\\n\\n\\n\\n\\n\\n\\n\\n\\n\\n\\ndata science\\n\\n\\n\\n\\n\\nPhone bill cost allocation \\n\\n\\n\\ndata science\\n\\n\\n\\n\\nA system to allocate the monthly cost of mobile phone consumption in a medical centre.\\nRead More →\\n\\n\\n\\ndata science\\n\\n\\n\\n\\n\\n\\n\\n\\n\\n\\n\\n\\n\\n\\n\\n\\n\\n\\n\\n\\n\\n\\nContactIf you see an opportunity for us to work together, please do not hesitate to send a message.\\n\\n\\n\\n\\n\\n\\n\\n\\n\\n\\n              Name\\n              \\n                *\\n\\n\\n\\n\\nFirst Name\\n\\n\\n\\n\\n\\nLast Name\\n\\n\\n\\n\\n\\n              Email\\n              \\n                *\\n\\n\\n\\n\\n\\n              Message\\n              \\n                *\\n\\n\\n\\n\\n\\n\\n\\n\\nThanks for your message! I will get back to you shortly.\\n\\n\\n\\n\\n\\n\\n\\n\\n\\n\\n\\n\\n\\n\\n\\n\\n\\n\\n\\n\\nHome · About  · Projects · Contact\\ufeff\\n\\n\\n\\n©2024 Daan Knoors\\n\\n\\n\\n\\n\\n\\n\\n\\n\\n\\n\\n'"
      ]
     },
     "execution_count": 33,
     "metadata": {},
     "output_type": "execute_result"
    }
   ],
   "source": [
    "soup.text"
   ]
  },
  {
   "cell_type": "code",
   "execution_count": null,
   "id": "72d10e95",
   "metadata": {},
   "outputs": [],
   "source": []
  }
 ],
 "metadata": {
  "kernelspec": {
   "display_name": "llm",
   "language": "python",
   "name": "python3"
  },
  "language_info": {
   "codemirror_mode": {
    "name": "ipython",
    "version": 3
   },
   "file_extension": ".py",
   "mimetype": "text/x-python",
   "name": "python",
   "nbconvert_exporter": "python",
   "pygments_lexer": "ipython3",
   "version": "3.12.9"
  }
 },
 "nbformat": 4,
 "nbformat_minor": 5
}
