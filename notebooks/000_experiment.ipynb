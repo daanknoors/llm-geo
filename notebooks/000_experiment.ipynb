{
 "cells": [
  {
   "cell_type": "markdown",
   "id": "62a4fb3c-589f-4ecf-bfce-16c168dfc9f3",
   "metadata": {},
   "source": [
    "# LLM Geo exp"
   ]
  },
  {
   "cell_type": "markdown",
   "id": "c168fbbc-8da3-4ecc-bb41-262424010f55",
   "metadata": {},
   "source": [
    "## Import libs"
   ]
  },
  {
   "cell_type": "code",
   "execution_count": 1,
   "id": "305b1707-57a6-41b6-8d6a-5ad10881125c",
   "metadata": {},
   "outputs": [],
   "source": [
    "import pandas as pd\n"
   ]
  },
  {
   "cell_type": "markdown",
   "id": "69ff0d69-98fe-48b7-934e-12033407278b",
   "metadata": {},
   "source": [
    "## Load data"
   ]
  },
  {
   "cell_type": "code",
   "execution_count": null,
   "id": "fc883b7d-912c-4011-8110-55940c649757",
   "metadata": {},
   "outputs": [],
   "source": []
  }
 ],
 "metadata": {
  "kernelspec": {
   "display_name": "llm",
   "language": "python",
   "name": "python3"
  },
  "language_info": {
   "codemirror_mode": {
    "name": "ipython",
    "version": 3
   },
   "file_extension": ".py",
   "mimetype": "text/x-python",
   "name": "python",
   "nbconvert_exporter": "python",
   "pygments_lexer": "ipython3",
   "version": "3.12.9"
  }
 },
 "nbformat": 4,
 "nbformat_minor": 5
}
