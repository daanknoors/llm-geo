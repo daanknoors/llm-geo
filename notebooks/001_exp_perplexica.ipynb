{
 "cells": [
  {
   "cell_type": "markdown",
   "id": "62a4fb3c-589f-4ecf-bfce-16c168dfc9f3",
   "metadata": {},
   "source": [
    "# LLM Geo - Perplexica exp"
   ]
  },
  {
   "cell_type": "markdown",
   "id": "c168fbbc-8da3-4ecc-bb41-262424010f55",
   "metadata": {},
   "source": [
    "## Import libs"
   ]
  },
  {
   "cell_type": "code",
   "execution_count": 1,
   "id": "305b1707-57a6-41b6-8d6a-5ad10881125c",
   "metadata": {},
   "outputs": [],
   "source": [
    "import pandas as pd\n",
    "import sys\n",
    "import requests\n",
    "from bs4 import BeautifulSoup"
   ]
  },
  {
   "cell_type": "code",
   "execution_count": 2,
   "id": "0146b81f",
   "metadata": {},
   "outputs": [
    {
     "name": "stdout",
     "output_type": "stream",
     "text": [
      "The autoreload extension is already loaded. To reload it, use:\n",
      "  %reload_ext autoreload\n"
     ]
    }
   ],
   "source": [
    "# autoreload changes from local files\n",
    "%load_ext autoreload\n",
    "%autoreload 2\n",
    "\n",
    "# pandas show full output\n",
    "pd.set_option('display.max_rows', 500)\n",
    "pd.set_option('display.max_columns', 200)"
   ]
  },
  {
   "cell_type": "code",
   "execution_count": 4,
   "id": "ab6e135d",
   "metadata": {},
   "outputs": [],
   "source": [
    "from llm_geo import parse"
   ]
  },
  {
   "cell_type": "markdown",
   "id": "69ff0d69-98fe-48b7-934e-12033407278b",
   "metadata": {},
   "source": [
    "## Perplexica experiment"
   ]
  },
  {
   "cell_type": "code",
   "execution_count": 33,
   "id": "66c4e846",
   "metadata": {},
   "outputs": [
    {
     "data": {
      "text/plain": [
       "{'chatModelProviders': {'ollama': {'llama3.1:latest': {'displayName': 'llama3.1:latest'}},\n",
       "  'custom_openai': {}},\n",
       " 'embeddingModelProviders': {'local': {'xenova-bge-small-en-v1.5': {'displayName': 'BGE Small'},\n",
       "   'xenova-gte-small': {'displayName': 'GTE Small'},\n",
       "   'xenova-bert-base-multilingual-uncased': {'displayName': 'Bert Multilingual'}},\n",
       "  'ollama': {'llama3.1:latest': {'displayName': 'llama3.1:latest'}}}}"
      ]
     },
     "execution_count": 33,
     "metadata": {},
     "output_type": "execute_result"
    }
   ],
   "source": [
    "api_url = \"http://localhost:3001/api/models\"\n",
    "# api_url = \"https://jsonplaceholder.typicode.com/todos/1\"\n",
    "response = requests.get(api_url)\n",
    "response.json()"
   ]
  },
  {
   "cell_type": "code",
   "execution_count": 39,
   "id": "41824e0a",
   "metadata": {},
   "outputs": [
    {
     "data": {
      "text/plain": [
       "{'message': '## Introduction to Daan Knoors\\nDaan Knoors is a freelance data scientist with expertise in developing machine learning algorithms, statistical models, and automated data processing pipelines. He has experience working on projects that aim to make a positive impact.\\n\\n### Background and Expertise\\nAccording to his LinkedIn profile [2], Daan Knoors has worked on various projects, including generating synthetic medical datasets for public access [6]. This initiative allows more people to experiment with record-level cancer data and contribute to oncological research. He also has experience in training machine learning models to detect metastatic breast cancer [9].\\n\\n### Professional Affiliations\\nDaan Knoors is affiliated with the Dev For Good collective, a developer collective focused on creating positive impact through technology [15]. This affiliation suggests his commitment to using data science for social good.\\n\\n### Research and Contributions\\nIn addition to his professional work, Daan Knoors has contributed to research in the field of cancer registry data analysis. He was part of a team that developed Nordcan.R, a tool for federated analysis and quality assurance of cancer registry data [14].\\n\\n### GitHub Profile\\nDaan Knoors maintains an active presence on GitHub, where he shares his work on synthetic data generation algorithms [10]. This open-source contribution demonstrates his commitment to sharing knowledge and expertise with the broader community.\\n\\n## Conclusion\\nIn summary, Daan Knoors is a freelance data scientist with experience in machine learning, statistical modeling, and data processing. He has worked on projects related to cancer research and has contributed to the development of tools for federated analysis of cancer registry data. His commitment to using data science for social good is evident through his affiliation with the Dev For Good collective.\\n\\nReferences:\\n[1] LinkedIn profile: Daan Knoors\\n[2] LinkedIn profile: Daan Knoors (affiliations)\\n[6] Synthetic medical datasets for public access\\n[9] Metastatic breast cancer detection\\n[10] GitHub profile: daanknoors/synthetic_data_generation\\n[14] Nordcan.R: a new tool for federated analysis and quality assurance of cancer registry data\\n[15] Dev For Good collective',\n",
       " 'sources': [{'pageContent': 'Daan Knoors (2018). \"Utility of Differentially Private Synthetic Data Generation for High-Dimensional Databases\", KTH Royal Institute of Technology, School of Electrical Engineering and Computer Science (EECS).',\n",
       "   'metadata': {'title': 'About — Daan Knoors',\n",
       "    'url': 'https://daanknoors.com/about'}},\n",
       "  {'pageContent': 'I am a freelance data scientist working on projects that make a positive impact on… · Ervaring: Dev For Good · Opleiding: Kungliga tekniska högskolan · Locatie: Maastricht · 500+ connecties op LinkedIn. Bekijk het profiel van Daan Knoors op LinkedIn, een professionele community van 1 miljard leden.',\n",
       "   'metadata': {'title': 'Daan Knoors - Dev For Good - LinkedIn',\n",
       "    'url': 'https://nl.linkedin.com/in/daan-knoors'}},\n",
       "  {'pageContent': \"Find Daan Knoors's articles, email address, contact information, Twitter and more. For PR Teams PR Software; Media Database; Media Monitoring; Social Listening ... Citation: Elvatun S, Knoors D, Brant S, Jonasson C, Nygård JF (2025) Synthetic data as external control arms in scarce single-arm clinical trials. PLOS Digit Health 4(1): e0000581. ...\",\n",
       "   'metadata': {'title': 'Daan Knoors’s Profile | PLOS Journalist - Muck Rack',\n",
       "    'url': 'https://muckrack.com/daan-knoors'}},\n",
       "  {'pageContent': \"Daan Knoors's 4 research works with 5 citations and 117 reads, including: Nordcan.R: a new tool for federated analysis and quality assurance of cancer registry data\",\n",
       "   'metadata': {'title': \"Daan Knoors's research while affiliated with The Netherlands ...\",\n",
       "    'url': 'https://researchgate.net/scientific-contributions/Daan-Knoors-2197846626'}},\n",
       "  {'pageContent': 'Develop machine learning algorithms, statistical models, and automated data processing pipelines to discover new insights and support decision-making. Privacy\\xa0...',\n",
       "   'metadata': {'title': 'Daan Knoors', 'url': 'https://daanknoors.com'}},\n",
       "  {'pageContent': 'We generated and released one of the first high-dimensional synthetic medical datasets for public access. This gives more people the opportunity to experiment with record-level cancer data and contribute to oncological research. Read More → privacy engineering data science Metastatic breast cancer detection data science',\n",
       "   'metadata': {'title': 'Daan Knoors', 'url': 'https://daanknoors.com/home'}},\n",
       "  {'pageContent': '1 mil millones de miembros | Gestiona tu identidad profesional. Amplía e interactúa con tu red profesional. Accede a conocimientos, información y oportunidades.',\n",
       "   'metadata': {'title': 'Daan Knoors - LinkedIn',\n",
       "    'url': 'https://es.linkedin.com/in/daan-knoors'}},\n",
       "  {'pageContent': 'View the profiles of people named Daan Knoors. Join Facebook to connect with Daan Knoors and others you may know. Facebook gives people the power to...',\n",
       "   'metadata': {'title': 'Daan Knoors in people',\n",
       "    'url': 'https://m.facebook.com/public/Daan-Knoors'}},\n",
       "  {'pageContent': 'Training a machine learning model to signal patients who develop metachronous metastases after primary breast cancer, resulting in a more complete cancer registry.',\n",
       "   'metadata': {'title': 'Metastatic breast cancer detection</span> — Daan Knoors',\n",
       "    'url': 'https://daanknoors.com/projects/m1-signal'}},\n",
       "  {'pageContent': 'daanknoors/synthetic_data_generation ; Latest commit. author. Daan Knoors. add random state to sample_from_binned_column for reproducable results. 2 years ago.',\n",
       "   'metadata': {'title': 'GitHub - daanknoors/synthetic_data_generation: Algorithms for generating synthetic data',\n",
       "    'url': 'https://github.com/daanknoors/synthetic_data_generation'}},\n",
       "  {'pageContent': 'Bart Kamphorst, Thomas Rooijakkers, Thijs Veugen, Matteo Cellamare, Daan Knoors:Accurate training of the Cox proportional hazards model on vertically-partitioned data while preserving privacy.BMC Medical Informatics Decis.',\n",
       "   'metadata': {'title': 'Daan Knoors - dblp',\n",
       "    'url': 'https://dblp.org/pid/296/6888'}},\n",
       "  {'pageContent': \"Today marks the beginning of an exciting journey for us. We're launching the Dev For Good collective! 🎉 We're Alexandre 🇫🇷, Bernardo 🇵🇹, Daan 🇳🇱 and Stefano 🇮🇹 - four ...\",\n",
       "   'metadata': {'title': 'Daan Knoors on LinkedIn: Dev For Good - Developer collective for ...',\n",
       "    'url': 'https://linkedin.com/posts/daan-knoors_dev-for-good-developer-collective-for-positive-activity-7251944266808066048-e_2A'}},\n",
       "  {'pageContent': 'Dan Knorr is the Executive Director of Economic Development & External Affairs at Commonwealth University of Pennsylvania, a public comprehensive university in Northeastern PA with total ...',\n",
       "   'metadata': {'title': 'Dan Knorr - Executive Director of Economic Development ... - LinkedIn',\n",
       "    'url': 'https://linkedin.com/in/danknorr'}},\n",
       "  {'pageContent': 'Siri Larønningen 1 , Anna Skog 1 , Gerda Engholm 2 , Jacques Ferlay 3 , Tom Børge Johannesen 1 , Marnar Fríðheim Kristiansen 4 , Daan Knoors 5 , Simon Mathis Kønig 2 , Elinborg J Olafsdottir 6 , Sasha Pejicic 7 , David Pettersson 7 , Charlotte Wessel Skovlund 2 , Hans H Storm 2 , Huidong ...',\n",
       "   'metadata': {'title': 'Nordcan.R: a new tool for federated analysis and quality assurance of cancer registry data - PubMed',\n",
       "    'url': 'https://pubmed.ncbi.nlm.nih.gov/37614501'}},\n",
       "  {'pageContent': \"DaanKnoors. Daan Knoors's flag. Senior Data Scientist · Privacy Engineer. Bernardo Caetano profile image. BernardoCaetano. Bernardo Caetano's flag. Senior\\xa0...\",\n",
       "   'metadata': {'title': 'Dev For Good - Developer collective for positive impact',\n",
       "    'url': 'https://devforgoodcollective.com'}}]}"
      ]
     },
     "execution_count": 39,
     "metadata": {},
     "output_type": "execute_result"
    }
   ],
   "source": [
    "prompt = {\n",
    "  \"chatModel\": {\n",
    "    \"provider\": \"ollama\",\n",
    "    \"model\": \"llama3.1:latest\"\n",
    "  },\n",
    "  \"embeddingModel\": {\n",
    "    \"provider\": \"ollama\",\n",
    "    \"model\": \"llama3.1:latest\"\n",
    "  },\n",
    "  \"optimizationMode\": \"speed\",\n",
    "  \"focusMode\": \"webSearch\",\n",
    "  \"query\": \"Who is Daan Knoors?\",\n",
    "  \"history\": [\n",
    "    [\"human\", \"Hi, how are you?\"],\n",
    "    [\"assistant\", \"I am doing well, how can I help you today?\"]\n",
    "  ]\n",
    "}\n",
    "api_url = \"http://localhost:3001/api/search\"\n",
    "response = requests.post(api_url, json=prompt)\n",
    "response.json()"
   ]
  },
  {
   "cell_type": "code",
   "execution_count": 40,
   "id": "80ffd66c",
   "metadata": {},
   "outputs": [
    {
     "data": {
      "text/plain": [
       "'## Introduction to Daan Knoors\\nDaan Knoors is a freelance data scientist with expertise in developing machine learning algorithms, statistical models, and automated data processing pipelines. He has experience working on projects that aim to make a positive impact.\\n\\n### Background and Expertise\\nAccording to his LinkedIn profile [2], Daan Knoors has worked on various projects, including generating synthetic medical datasets for public access [6]. This initiative allows more people to experiment with record-level cancer data and contribute to oncological research. He also has experience in training machine learning models to detect metastatic breast cancer [9].\\n\\n### Professional Affiliations\\nDaan Knoors is affiliated with the Dev For Good collective, a developer collective focused on creating positive impact through technology [15]. This affiliation suggests his commitment to using data science for social good.\\n\\n### Research and Contributions\\nIn addition to his professional work, Daan Knoors has contributed to research in the field of cancer registry data analysis. He was part of a team that developed Nordcan.R, a tool for federated analysis and quality assurance of cancer registry data [14].\\n\\n### GitHub Profile\\nDaan Knoors maintains an active presence on GitHub, where he shares his work on synthetic data generation algorithms [10]. This open-source contribution demonstrates his commitment to sharing knowledge and expertise with the broader community.\\n\\n## Conclusion\\nIn summary, Daan Knoors is a freelance data scientist with experience in machine learning, statistical modeling, and data processing. He has worked on projects related to cancer research and has contributed to the development of tools for federated analysis of cancer registry data. His commitment to using data science for social good is evident through his affiliation with the Dev For Good collective.\\n\\nReferences:\\n[1] LinkedIn profile: Daan Knoors\\n[2] LinkedIn profile: Daan Knoors (affiliations)\\n[6] Synthetic medical datasets for public access\\n[9] Metastatic breast cancer detection\\n[10] GitHub profile: daanknoors/synthetic_data_generation\\n[14] Nordcan.R: a new tool for federated analysis and quality assurance of cancer registry data\\n[15] Dev For Good collective'"
      ]
     },
     "execution_count": 40,
     "metadata": {},
     "output_type": "execute_result"
    }
   ],
   "source": [
    "response.json()['message']"
   ]
  },
  {
   "cell_type": "code",
   "execution_count": null,
   "id": "41adc3fd",
   "metadata": {},
   "outputs": [],
   "source": []
  }
 ],
 "metadata": {
  "kernelspec": {
   "display_name": "llm-geo-poFahSGm-py3.12",
   "language": "python",
   "name": "python3"
  },
  "language_info": {
   "codemirror_mode": {
    "name": "ipython",
    "version": 3
   },
   "file_extension": ".py",
   "mimetype": "text/x-python",
   "name": "python",
   "nbconvert_exporter": "python",
   "pygments_lexer": "ipython3",
   "version": "3.12.9"
  }
 },
 "nbformat": 4,
 "nbformat_minor": 5
}
